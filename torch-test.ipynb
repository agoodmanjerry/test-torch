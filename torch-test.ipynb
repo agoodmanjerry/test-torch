{
 "cells": [
  {
   "cell_type": "code",
   "execution_count": 2,
   "metadata": {},
   "outputs": [],
   "source": [
    "import torch"
   ]
  },
  {
   "cell_type": "code",
   "execution_count": 3,
   "metadata": {},
   "outputs": [
    {
     "name": "stdout",
     "output_type": "stream",
     "text": [
      "cuda:0\n"
     ]
    }
   ],
   "source": [
    "if torch.cuda.is_available():\n",
    "    device = torch.device('cuda', 0)\n",
    "else:\n",
    "    device = torch.device('cpu')\n",
    "\n",
    "print(device)"
   ]
  },
  {
   "cell_type": "code",
   "execution_count": 13,
   "metadata": {},
   "outputs": [
    {
     "name": "stdout",
     "output_type": "stream",
     "text": [
      "7 16\n",
      "tensor([[[[0.4617, 0.5287, 0.9465, 0.7510, 0.4430, 0.6012, 0.3903, 0.9281,\n",
      "           0.0626, 0.2044, 0.1990, 0.5411, 0.9358, 0.1217, 0.2041, 0.1473]]]],\n",
      "       device='cuda:0')\n",
      "unfold(\n",
      "  (uf): Unfold(kernel_size=(1, 7), dilation=(1, 2), padding=0, stride=1)\n",
      ")\n",
      "tensor([[[0.4617, 0.5287, 0.9465, 0.7510],\n",
      "         [0.9465, 0.7510, 0.4430, 0.6012],\n",
      "         [0.4430, 0.6012, 0.3903, 0.9281],\n",
      "         [0.3903, 0.9281, 0.0626, 0.2044],\n",
      "         [0.0626, 0.2044, 0.1990, 0.5411],\n",
      "         [0.1990, 0.5411, 0.9358, 0.1217],\n",
      "         [0.9358, 0.1217, 0.2041, 0.1473]]], device='cuda:0')\n"
     ]
    }
   ],
   "source": [
    "nperseg, nstride = 4, 2\n",
    "\n",
    "ts = torch.rand(16, device=device)\n",
    "reshape = []\n",
    "ts = ts[None, None, None, :]\n",
    "num_segs = (ts.shape[-1] - nperseg) // nstride + 1\n",
    "stop = (num_segs - 1) * nstride + nperseg\n",
    "ts = ts[:stop]\n",
    "\n",
    "print(num_segs, stop)\n",
    "print(ts)\n",
    "\n",
    "class unfold(torch.nn.Module):\n",
    "    def __init__(self):\n",
    "        super(unfold, self).__init__()\n",
    "        self.uf = torch.nn.Unfold(\n",
    "            kernel_size=(1,num_segs),\n",
    "            dilation=(1,nstride),\n",
    "            padding=0,\n",
    "        )\n",
    "\n",
    "    def forward(self, input):\n",
    "        x = self.uf(input)\n",
    "        return x\n",
    "\n",
    "UF = unfold()\n",
    "print(UF)\n",
    "ts_Uf = UF(ts)\n",
    "print(ts_Uf)"
   ]
  },
  {
   "cell_type": "code",
   "execution_count": null,
   "metadata": {},
   "outputs": [],
   "source": []
  }
 ],
 "metadata": {
  "kernelspec": {
   "display_name": "torch",
   "language": "python",
   "name": "python3"
  },
  "language_info": {
   "codemirror_mode": {
    "name": "ipython",
    "version": 3
   },
   "file_extension": ".py",
   "mimetype": "text/x-python",
   "name": "python",
   "nbconvert_exporter": "python",
   "pygments_lexer": "ipython3",
   "version": "3.11.5"
  }
 },
 "nbformat": 4,
 "nbformat_minor": 2
}
