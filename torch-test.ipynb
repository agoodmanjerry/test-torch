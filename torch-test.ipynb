{
 "cells": [
  {
   "cell_type": "code",
   "execution_count": 31,
   "metadata": {},
   "outputs": [],
   "source": [
    "import torch"
   ]
  },
  {
   "cell_type": "code",
   "execution_count": 32,
   "metadata": {},
   "outputs": [
    {
     "name": "stdout",
     "output_type": "stream",
     "text": [
      "cuda:0\n"
     ]
    }
   ],
   "source": [
    "if torch.cuda.is_available():\n",
    "    device = torch.device('cuda', 0)\n",
    "else:\n",
    "    device = torch.device('cpu')\n",
    "\n",
    "print(device)"
   ]
  },
  {
   "cell_type": "code",
   "execution_count": 33,
   "metadata": {},
   "outputs": [
    {
     "name": "stdout",
     "output_type": "stream",
     "text": [
      "7 16\n",
      "tensor([[[[0.1479, 0.5787, 0.0304, 0.4525, 0.0743, 0.2433, 0.3736, 0.3488,\n",
      "           0.2965, 0.4961, 0.2199, 0.9754, 0.7900, 0.1528, 0.0338, 0.9799]]]],\n",
      "       device='cuda:0')\n",
      "unfold(\n",
      "  (uf): Unfold(kernel_size=(1, 7), dilation=(1, 2), padding=0, stride=1)\n",
      ")\n"
     ]
    }
   ],
   "source": [
    "nperseg, nstride = 4, 2\n",
    "\n",
    "ts = torch.rand(16, device=device)\n",
    "reshape = []\n",
    "ts = ts[None, None, None, :]\n",
    "num_segs = (ts.shape[-1] - nperseg) // nstride + 1\n",
    "stop = (num_segs - 1) * nstride + nperseg\n",
    "ts = ts[:stop]\n",
    "\n",
    "print(num_segs, stop)\n",
    "print(ts)\n",
    "\n",
    "class unfold(torch.nn.Module):\n",
    "    def __init__(self):\n",
    "        super(unfold, self).__init__()\n",
    "        self.uf = torch.nn.Unfold(\n",
    "            kernel_size=(1,num_segs),\n",
    "            dilation=(1,nstride),\n",
    "            padding=0,\n",
    "        )\n",
    "\n",
    "    def forward(self, input):\n",
    "        x = self.uf(input)\n",
    "        return x\n",
    "\n",
    "UF = unfold()\n",
    "print(UF)\n",
    "ts_Uf = UF(ts)"
   ]
  },
  {
   "cell_type": "code",
   "execution_count": 34,
   "metadata": {},
   "outputs": [
    {
     "name": "stdout",
     "output_type": "stream",
     "text": [
      "tensor([[[0.1479, 0.5787, 0.0304, 0.4525],\n",
      "         [0.0304, 0.4525, 0.0743, 0.2433],\n",
      "         [0.0743, 0.2433, 0.3736, 0.3488],\n",
      "         [0.3736, 0.3488, 0.2965, 0.4961],\n",
      "         [0.2965, 0.4961, 0.2199, 0.9754],\n",
      "         [0.2199, 0.9754, 0.7900, 0.1528],\n",
      "         [0.7900, 0.1528, 0.0338, 0.9799]]], device='cuda:0')\n",
      "tensor([[[0.3024],\n",
      "         [0.2001],\n",
      "         [0.2600],\n",
      "         [0.3787],\n",
      "         [0.4970],\n",
      "         [0.5345],\n",
      "         [0.4891]]], device='cuda:0')\n",
      "tensor([[[-0.1544,  0.2763, -0.2720,  0.1501],\n",
      "         [-0.1697,  0.2524, -0.1258,  0.0432],\n",
      "         [-0.1856, -0.0167,  0.1136,  0.0888],\n",
      "         [-0.0052, -0.0300, -0.0822,  0.1174],\n",
      "         [-0.2005, -0.0009, -0.2771,  0.4784],\n",
      "         [-0.3146,  0.4409,  0.2554, -0.3817],\n",
      "         [ 0.3009, -0.3363, -0.4553,  0.4908]]], device='cuda:0')\n"
     ]
    }
   ],
   "source": [
    "print(ts_Uf)\n",
    "ts_Uf_mean = ts_Uf.mean(axis=-1, keepdims=True)\n",
    "print(ts_Uf_mean)\n",
    "ts_diff = ts_Uf - ts_Uf_mean\n",
    "print(ts_diff)"
   ]
  },
  {
   "cell_type": "code",
   "execution_count": 36,
   "metadata": {},
   "outputs": [
    {
     "name": "stdout",
     "output_type": "stream",
     "text": [
      "tensor([[[2.0759e+00, 1.6063e+01, 1.3038e+00],\n",
      "         [2.3551e+00, 1.0228e+01, 7.9630e-01],\n",
      "         [1.3892e+00, 5.2623e+01, 2.1430e-01],\n",
      "         [1.9772e+00, 7.6096e+01, 1.7798e-01],\n",
      "         [3.1757e+00, 2.4449e+01, 6.7358e-02],\n",
      "         [1.7089e+00, 4.4527e+01, 3.2134e-01],\n",
      "         [1.3242e+00, 2.8178e+01, 1.6367e-01]]], device='cuda:0')\n",
      "tensor([[[2.0759e+00, 3.2126e+01, 1.3038e+00],\n",
      "         [2.3551e+00, 2.0456e+01, 7.9630e-01],\n",
      "         [1.3892e+00, 1.0525e+02, 2.1430e-01],\n",
      "         [1.9772e+00, 1.5219e+02, 1.7798e-01],\n",
      "         [3.1757e+00, 4.8897e+01, 6.7358e-02],\n",
      "         [1.7089e+00, 8.9055e+01, 3.2134e-01],\n",
      "         [1.3242e+00, 5.6356e+01, 1.6367e-01]]], device='cuda:0')\n",
      "[]\n",
      "[7, -1]\n",
      "tensor([[2.0759e+00, 3.2126e+01, 1.3038e+00],\n",
      "        [2.3551e+00, 2.0456e+01, 7.9630e-01],\n",
      "        [1.3892e+00, 1.0525e+02, 2.1430e-01],\n",
      "        [1.9772e+00, 1.5219e+02, 1.7798e-01],\n",
      "        [3.1757e+00, 4.8897e+01, 6.7358e-02],\n",
      "        [1.7089e+00, 8.9055e+01, 3.2134e-01],\n",
      "        [1.3242e+00, 5.6356e+01, 1.6367e-01]], device='cuda:0')\n"
     ]
    }
   ],
   "source": [
    "reshape = []\n",
    "\n",
    "#fft = torch.fft.rfft(ts_Uf, axis=-1).abs() ** 2\n",
    "fft_diff = torch.fft.rfft(ts_diff, axis=-1).abs() ** 2\n",
    "print(fft)\n",
    "\n",
    "if nperseg % 2:\n",
    "    fft[..., 1:] *= 2\n",
    "else:\n",
    "    fft[..., 1:-1] *= 2\n",
    "\n",
    "print(fft)\n",
    "\n",
    "print(reshape)\n",
    "reshape += [num_segs, -1]\n",
    "print(reshape)\n",
    "\n",
    "fft = fft.reshape(*reshape)\n",
    "print(fft)"
   ]
  },
  {
   "cell_type": "code",
   "execution_count": 51,
   "metadata": {},
   "outputs": [
    {
     "data": {
      "text/plain": [
       "tensor([ 2.0009, 72.0467,  0.4350], device='cuda:0')"
      ]
     },
     "execution_count": 51,
     "metadata": {},
     "output_type": "execute_result"
    }
   ],
   "source": [
    "fft.shape\n",
    "fft.mean(axis=-2)"
   ]
  },
  {
   "cell_type": "code",
   "execution_count": null,
   "metadata": {},
   "outputs": [],
   "source": []
  }
 ],
 "metadata": {
  "kernelspec": {
   "display_name": "torch",
   "language": "python",
   "name": "python3"
  },
  "language_info": {
   "codemirror_mode": {
    "name": "ipython",
    "version": 3
   },
   "file_extension": ".py",
   "mimetype": "text/x-python",
   "name": "python",
   "nbconvert_exporter": "python",
   "pygments_lexer": "ipython3",
   "version": "3.11.5"
  }
 },
 "nbformat": 4,
 "nbformat_minor": 2
}
